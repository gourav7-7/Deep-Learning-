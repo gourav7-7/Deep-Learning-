{
 "cells": [
  {
   "cell_type": "code",
   "execution_count": 1,
   "metadata": {},
   "outputs": [
    {
     "name": "stdout",
     "output_type": "stream",
     "text": [
      "    name   age  gender  salary\n",
      "0  alice  25.0  female   50000\n",
      "1    bob  30.0    male   60000\n",
      "2    sam   NaN    male   65000\n",
      "3   dave  28.0    male   70000\n",
      "4    eva  30.0  female   50000\n"
     ]
    }
   ],
   "source": [
    "import pandas as pd\n",
    "df=pd.read_csv(\"data.csv\")\n",
    "print(df)"
   ]
  },
  {
   "cell_type": "code",
   "execution_count": 2,
   "metadata": {},
   "outputs": [
    {
     "name": "stdout",
     "output_type": "stream",
     "text": [
      "name      0\n",
      "age       1\n",
      "gender    0\n",
      "salary    0\n",
      "dtype: int64\n",
      "    name    age  gender  salary\n",
      "0  alice  25.00       0   50000\n",
      "1    bob  30.00       1   60000\n",
      "2    sam  28.25       1   65000\n",
      "3   dave  28.00       1   70000\n",
      "4    eva  30.00       0   50000\n"
     ]
    }
   ],
   "source": [
    "# Check for missing value in the Dataframe \n",
    "print(df.isnull().sum())\n",
    "#Option 1: Drop rows with missing values\n",
    "# df.dropna()\n",
    "# Option 2 Fill sissing values with a specific value (e.g., mean, median, or custom value) \n",
    "mean_age = df[\"age\"].mean()\n",
    "df[\"age\"].fillna(mean_age, inplace=True)\n",
    "\n",
    "df['gender']=df['gender'].map({'male':1,'female':0})\n",
    "print(df)"
   ]
  },
  {
   "cell_type": "code",
   "execution_count": 3,
   "metadata": {},
   "outputs": [
    {
     "name": "stdout",
     "output_type": "stream",
     "text": [
      "\n",
      " X tensor \n",
      " tf.Tensor(\n",
      "[[25.    0.  ]\n",
      " [30.    1.  ]\n",
      " [28.25  1.  ]\n",
      " [28.    1.  ]\n",
      " [30.    0.  ]], shape=(5, 2), dtype=float32)\n",
      "\n",
      " Y tensor\n",
      " tf.Tensor([50000 60000 65000 70000 50000], shape=(5,), dtype=int32)\n"
     ]
    }
   ],
   "source": [
    "import numpy as np\n",
    "import tensorflow as tf\n",
    "# Extract features and Labels from the DataFrame\n",
    "X = df[['age', 'gender']].values\n",
    "y=df[ 'salary'].values\n",
    "\n",
    "# Convert to TensorFlow tensors\n",
    "X_tensor = tf.constant(X, dtype=tf.float32)\n",
    "y_tensor = tf.constant(y, dtype=tf.int32)\n",
    "\n",
    "# Alternatively, you can use NumPy arrays directly as TensorFlow tensors\n",
    "X_tensor = tf.convert_to_tensor (X, dtype=tf.float32)\n",
    "y_tensor = tf.convert_to_tensor (y, dtype=tf.int32)\n",
    "\n",
    "print(\"\\n X tensor \\n\",X_tensor)\n",
    "print(\"\\n Y tensor\\n\",y_tensor)"
   ]
  }
 ],
 "metadata": {
  "kernelspec": {
   "display_name": "Python 3",
   "language": "python",
   "name": "python3"
  },
  "language_info": {
   "codemirror_mode": {
    "name": "ipython",
    "version": 3
   },
   "file_extension": ".py",
   "mimetype": "text/x-python",
   "name": "python",
   "nbconvert_exporter": "python",
   "pygments_lexer": "ipython3",
   "version": "3.9.1"
  }
 },
 "nbformat": 4,
 "nbformat_minor": 2
}
