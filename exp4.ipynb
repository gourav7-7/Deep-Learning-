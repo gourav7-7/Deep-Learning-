{
 "cells": [
  {
   "cell_type": "code",
   "execution_count": 1,
   "metadata": {},
   "outputs": [
    {
     "name": "stdout",
     "output_type": "stream",
     "text": [
      "addition  [5 7 9]\n",
      "subtraction [-3 -3 -3]\n",
      "multiplication  [ 4 10 18]\n",
      "division  [0.25 0.4  0.5 ]\n"
     ]
    }
   ],
   "source": [
    "import numpy as np\n",
    "# Creating tensors (arrays) using NumPy \n",
    "# # 1-D tensor (vector)\n",
    "vector = np.array([1, 2, 3])\n",
    "\n",
    "# 2-D tensor (matrix) \n",
    "matrix = np.array([[1, 2], [3, 4]])\n",
    "\n",
    "# 3-D tensor\n",
    "tensor_3d = np.array([[[1, 2], [3, 4]], [[5, 6], [7, 8]]])\n",
    "\n",
    "# Tensor arithmetic (element-wise operations)\n",
    "a = np.array([1, 2, 3])\n",
    "b= np.array([4, 5, 6])\n",
    "\n",
    "addition = a + b\n",
    "print(\"addition \", addition) \n",
    "\n",
    "subtraction = a - b\n",
    "print(\"subtraction\", subtraction) \n",
    "\n",
    "elewise_mult = a * b \n",
    "print(\"multiplication \", elewise_mult) \n",
    "\n",
    "elewise_division = a / b\n",
    "print(\"division \", elewise_division)"
   ]
  },
  {
   "cell_type": "code",
   "execution_count": 2,
   "metadata": {},
   "outputs": [
    {
     "name": "stdout",
     "output_type": "stream",
     "text": [
      "Dot \n",
      " [[19 22]\n",
      " [43 50]]\n",
      "@ operator\n",
      " [[19 22]\n",
      " [43 50]]\n"
     ]
    }
   ],
   "source": [
    "import numpy as np\n",
    "#Matrix multiplication using dot() function \n",
    "matrix_a = np.array([[1, 2], [3, 4]]) \n",
    "matrix_b = np.array([[5, 6], [7, 8]])\n",
    "\n",
    "# Option 1: Use dot() function \n",
    "matrix_product = np.dot (matrix_a, matrix_b) \n",
    "print(\"Dot \\n\", matrix_product)\n",
    "\n",
    "# Option 2: Use @ operator (Python 3.5+) \n",
    "matrix_product = matrix_a @ matrix_b \n",
    "print(\"@ operator\\n\", matrix_product)"
   ]
  }
 ],
 "metadata": {
  "kernelspec": {
   "display_name": "Python 3",
   "language": "python",
   "name": "python3"
  },
  "language_info": {
   "codemirror_mode": {
    "name": "ipython",
    "version": 3
   },
   "file_extension": ".py",
   "mimetype": "text/x-python",
   "name": "python",
   "nbconvert_exporter": "python",
   "pygments_lexer": "ipython3",
   "version": "3.9.1"
  }
 },
 "nbformat": 4,
 "nbformat_minor": 2
}
