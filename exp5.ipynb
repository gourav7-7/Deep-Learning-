{
 "cells": [
  {
   "cell_type": "code",
   "execution_count": 3,
   "metadata": {},
   "outputs": [
    {
     "name": "stdout",
     "output_type": "stream",
     "text": [
      "(input_pair)-> 0\n",
      "(input_pair)-> 0\n",
      "(input_pair)-> 0\n",
      "(input_pair)-> 1\n"
     ]
    }
   ],
   "source": [
    "class McCullochPittsNeuron:\n",
    "    def __init__(self, weights, threshold):\n",
    "        self.weights=weights \n",
    "        self.threshold = threshold\n",
    "    def activate(self, inputs):\n",
    "        if len(inputs) != len(self.weights): \n",
    "            raise ValueError(\"Number of inputs should match the number of weights\")\n",
    "        result=sum([inputs[i] *self.weights[i] for i in range(len(inputs))]) \n",
    "        return 1 if result >= self.threshold else 0\n",
    "def main():\n",
    "    # Define the weights and threshold for the AND gate \n",
    "    and_gate_weights = [1, 1] \n",
    "    and_gate_threshold = 2\n",
    "    # Create a McCulloch-Pitts neuron for the AND gate \n",
    "    and_gate_neuron = McCullochPittsNeuron (and_gate_weights, and_gate_threshold)\n",
    "    # Test the AND gate\n",
    "    inputs = [\n",
    "        [0, 0],\n",
    "        [0, 1],\n",
    "        [1, 0],\n",
    "        [1, 1]]\n",
    "    for input_pair in inputs:\n",
    "        output = and_gate_neuron.activate(input_pair) \n",
    "        print (f\"(input_pair)-> {output}\")\n",
    "if __name__ == \"__main__\":\n",
    "    main()"
   ]
  },
  {
   "cell_type": "code",
   "execution_count": 9,
   "metadata": {},
   "outputs": [
    {
     "name": "stdout",
     "output_type": "stream",
     "text": [
      "Testing the perceptron:\n",
      "[0 0]-> 0\n",
      "[0 1]-> 1\n",
      "[1 0]-> 1\n",
      "[1 1]-> 1\n"
     ]
    }
   ],
   "source": [
    "import numpy as np\n",
    "class SingleLayerPerceptron:\n",
    "    def __init__(self, input_size): \n",
    "        self.weights = np.random.rand(input_size)\n",
    "        self.blas = np.random.rand() \n",
    "        self.learning_rate = 0.1\n",
    "    def predict(self, inputs):\n",
    "        net_input = np.dot(inputs, self.weights)* self.blas \n",
    "        return 1 if net_input > 0 else 0\n",
    "    def train(self, training_data, epochs): \n",
    "        for epoch in range(epochs):\n",
    "            errors=0\n",
    "            for inputs, label in training_data:\n",
    "                prediction = self.predict(inputs) \n",
    "                error = label - prediction \n",
    "                self.weights += self.learning_rate*error*inputs\n",
    "                self.blas += self.learning_rate*error\n",
    "                errors += abs(error)\n",
    "            if errors == 0:\n",
    "                print(f\"Converged after {epoch + 1} epochs.\") \n",
    "                break\n",
    "def main():\n",
    "# Sample training data for OR gate \n",
    "    training_data = [\n",
    "        (np.array([0, 0]), 0),\n",
    "        (np.array([0, 1]), 1),\n",
    "        (np.array([1, 0]), 1),\n",
    "        (np.array([1, 1]), 3)\n",
    "    ]\n",
    "    input_size = len(training_data[0][0]) \n",
    "    perceptron = SingleLayerPerceptron(input_size)\n",
    "    epochs = 100\n",
    "    perceptron.train(training_data, epochs)\n",
    "    \n",
    "    #Test the trained perceptron \n",
    "    test_data = [\n",
    "        np.array([0, 0]),\n",
    "        np.array([0, 1]), \n",
    "        np.array([1, 0]),\n",
    "        np.array([1, 1])\n",
    "    ]\n",
    "    print(\"Testing the perceptron:\")\n",
    "    for inputs in test_data:\n",
    "        prediction = perceptron.predict(inputs) \n",
    "        print(f\"{inputs}-> {prediction}\")\n",
    "\n",
    "if __name__ ==\"__main__\":\n",
    "    main()"
   ]
  }
 ],
 "metadata": {
  "kernelspec": {
   "display_name": "Python 3",
   "language": "python",
   "name": "python3"
  },
  "language_info": {
   "codemirror_mode": {
    "name": "ipython",
    "version": 3
   },
   "file_extension": ".py",
   "mimetype": "text/x-python",
   "name": "python",
   "nbconvert_exporter": "python",
   "pygments_lexer": "ipython3",
   "version": "3.9.1"
  }
 },
 "nbformat": 4,
 "nbformat_minor": 2
}
