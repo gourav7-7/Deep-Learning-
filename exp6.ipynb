{
 "cells": [
  {
   "cell_type": "code",
   "execution_count": 1,
   "metadata": {},
   "outputs": [
    {
     "name": "stdout",
     "output_type": "stream",
     "text": [
      "Output without hidden layer:\n",
      "[[0.7 1. ]\n",
      " [1.5 2.2]\n",
      " [2.3 3.4]]\n"
     ]
    }
   ],
   "source": [
    "# 1.Forward Pass with Matrix Multiplication (Without Hidden Layer)\n",
    "import numpy as np\n",
    "\n",
    "# Input data (a 3x2 matrix)\n",
    "input_data = np.array([[1, 2],\n",
    "[3, 4],\n",
    "[5, 6]])\n",
    "\n",
    "#Weight matrix (a 2x2 matrix) \n",
    "weights= np.array([[0.1, 0.2], [0.3, 0.4]])\n",
    "\n",
    "#Forward pass without a hidden Layer (matrix multiplication) \n",
    "output_data = np.dot (input_data, weights)\n",
    "print(\"Output without hidden layer:\")\n",
    "print (output_data)"
   ]
  },
  {
   "cell_type": "code",
   "execution_count": 3,
   "metadata": {},
   "outputs": [
    {
     "name": "stdout",
     "output_type": "stream",
     "text": [
      "Output with hidden layer:\n",
      "[[1.05 1.22]\n",
      " [2.29 2.66]\n",
      " [3.53 4.1 ]]\n"
     ]
    }
   ],
   "source": [
    "# 2. Forward Pass with Hidden Layer (Matrix Multiplication)\n",
    "import numpy as np\n",
    "# input data (a 3x2 matrix) \n",
    "input_data= np.array([[1, 2],\n",
    "[3, 4],\n",
    "[5, 6]])\n",
    "\n",
    "#weight matrices (2 hidden units, 2 input features) \n",
    "weights_hidden= np.array([[0.1, 0.2],\n",
    "[0.3, 0.4]])\n",
    "\n",
    "#Weight matrices (2 output units, 2 hidden units) \n",
    "weights_output = np.array([[0.5, 0.6],\n",
    "[0.7, 0.8]])\n",
    "# Forward pass with a hidden layer (matrix multiplication) \n",
    "hidden_layer_output = np.dot (input_data, weights_hidden) \n",
    "output_data = np.dot (hidden_layer_output, weights_output)\n",
    "\n",
    "print(\"Output with hidden layer:\") \n",
    "print(output_data)"
   ]
  },
  {
   "cell_type": "code",
   "execution_count": 14,
   "metadata": {},
   "outputs": [
    {
     "name": "stdout",
     "output_type": "stream",
     "text": [
      "Output with Keras:\n",
      "[[0.5168996  0.49985316]\n",
      " [0.50051314 0.4999718 ]\n",
      " [0.50001526 0.49999842]]\n"
     ]
    }
   ],
   "source": [
    "#3. Forward Pass with Matrix Multiplication using Keras:\n",
    "import numpy as np\n",
    "from keras.models import Sequential \n",
    "from keras.layers import Dense\n",
    "#Input data (a 3x2 matrix)\n",
    "input_data = np.array([[1, 2],\n",
    "[3, 4],\n",
    "[5, 6]])\n",
    "# Define the Keras model\n",
    "model = Sequential()\n",
    "model.add(Dense(units=2, input_dim=2, activation='sigmoid')) \n",
    "model.add(Dense (units=2, activation=\"sigmoid\"))\n",
    "#Weight matrices will be automatically initialized by Keras\n",
    "#Perform the forward pass using Keras \n",
    "Output_data = model.predict(input_data)\n",
    "\n",
    "print(\"Output with Keras:\") \n",
    "print(Output_data)"
   ]
  },
  {
   "cell_type": "code",
   "execution_count": 17,
   "metadata": {},
   "outputs": [
    {
     "name": "stdout",
     "output_type": "stream",
     "text": [
      "Output with hidden layer using Keras: \n",
      "[[0.5238556  0.474268  ]\n",
      " [0.53775066 0.4532814 ]\n",
      " [0.54412943 0.4434209 ]]\n"
     ]
    }
   ],
   "source": [
    "# 4. Forward passes with hidden layer (matrix multiplication) with keras.\n",
    "import numpy as np \n",
    "from keras.models import Sequential \n",
    "from keras.layers import Dense\n",
    "\n",
    "# Input data (a 3x2 matrix)\n",
    "input_data= np.array([[1, 2],\n",
    "[3, 4],\n",
    "[5, 6]])\n",
    "\n",
    "# Define the Keras model \n",
    "model = Sequential()\n",
    "\n",
    "# Add a hidden layer with 2 units and input dimension 2, using matrix multiplication \n",
    "model.add(Dense(units=2, input_dim=2, activation = 'sigmoid'))\n",
    "\n",
    "#Add the output layer with 2 units, also using matrix multiplication \n",
    "model.add(Dense (units=2, activation='sigmoid'))\n",
    "\n",
    "#Weight matrices will be automatically initialized by Keras\n",
    "\n",
    "# Perform the forward pass using Keras \n",
    "output_data = model.predict(input_data)\n",
    "print(\"Output with hidden layer using Keras: \") \n",
    "print (output_data)"
   ]
  }
 ],
 "metadata": {
  "kernelspec": {
   "display_name": "Python 3",
   "language": "python",
   "name": "python3"
  },
  "language_info": {
   "codemirror_mode": {
    "name": "ipython",
    "version": 3
   },
   "file_extension": ".py",
   "mimetype": "text/x-python",
   "name": "python",
   "nbconvert_exporter": "python",
   "pygments_lexer": "ipython3",
   "version": "3.9.1"
  }
 },
 "nbformat": 4,
 "nbformat_minor": 2
}
