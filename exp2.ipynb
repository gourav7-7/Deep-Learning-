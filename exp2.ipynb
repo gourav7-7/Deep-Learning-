{
 "cells": [
  {
   "cell_type": "code",
   "execution_count": 1,
   "metadata": {},
   "outputs": [
    {
     "name": "stdout",
     "output_type": "stream",
     "text": [
      "Requirement already satisfied: numpy in c:\\users\\gourav\\appdata\\local\\programs\\python\\python39\\lib\\site-packages (1.24.3)\n"
     ]
    },
    {
     "name": "stderr",
     "output_type": "stream",
     "text": [
      "\n",
      "[notice] A new release of pip is available: 23.1.2 -> 23.3\n",
      "[notice] To update, run: python.exe -m pip install --upgrade pip\n"
     ]
    }
   ],
   "source": [
    "!pip install numpy"
   ]
  },
  {
   "cell_type": "code",
   "execution_count": 2,
   "metadata": {},
   "outputs": [
    {
     "name": "stdout",
     "output_type": "stream",
     "text": [
      "Array list \n",
      " [1 2 3 4 5]\n",
      "Array list zeros \n",
      " [[0. 0. 0. 0.]\n",
      " [0. 0. 0. 0.]\n",
      " [0. 0. 0. 0.]]\n",
      "Array list ones\n",
      " [2 2]\n",
      "Array list \n",
      " [[0.7687996  0.57925409]\n",
      " [0.58460193 0.08941118]]\n"
     ]
    }
   ],
   "source": [
    "import numpy as np\n",
    "\n",
    "a=np.array([1,2,3,4,5])\n",
    "print(\"Array list \\n\",a)\n",
    "\n",
    "zero_a=np.zeros((3,4))\n",
    "print(\"Array list zeros \\n\",zero_a)\n",
    "\n",
    "one_a=np.array((2,2))\n",
    "print(\"Array list ones\\n\",one_a)\n",
    "\n",
    "randonm_a=np.random.rand(2,2)\n",
    "print(\"Array list \\n\",randonm_a)"
   ]
  },
  {
   "cell_type": "code",
   "execution_count": 3,
   "metadata": {},
   "outputs": [
    {
     "name": "stdout",
     "output_type": "stream",
     "text": [
      "broadcasting [ 4  8 12]\n"
     ]
    }
   ],
   "source": [
    "#broadcasating example\n",
    "b=np.array([2,4,6])\n",
    "scalar=2\n",
    "result=b*scalar\n",
    "print(\"broadcasting\", result)"
   ]
  },
  {
   "cell_type": "code",
   "execution_count": 4,
   "metadata": {},
   "outputs": [
    {
     "name": "stdout",
     "output_type": "stream",
     "text": [
      "Addition [ 8 10 12]\n",
      "Subtraction [-6 -6 -6]\n",
      "Division [0.14285714 0.25       0.33333333]\n",
      "Multiplication [ 7 16 27]\n",
      "matrix Product \n",
      " [[20 28]\n",
      " [52 76]]\n",
      "[10 15 20 25 30]\n",
      "Mean 20.0\n",
      "Median 20.0\n",
      "std Deviation 7.0710678118654755\n"
     ]
    }
   ],
   "source": [
    "#element-wise Arithmetic operations.\n",
    "a=np.array([1,2,3])\n",
    "b=np.array([7,8,9])\n",
    "print(\"Addition\",a+b)\n",
    "print(\"Subtraction\",a-b)\n",
    "print(\"Division\",a/b)\n",
    "print(\"Multiplication\",a*b)\n",
    "\n",
    "#matrix operation\n",
    "mat_a=np.array([[1,3],[5,7]])\n",
    "mat_b=np.array([[2,4],[6,8]])\n",
    "mat_prod=np.dot(mat_a,mat_b)\n",
    "print(\"matrix Product \\n\",mat_prod)\n",
    "\n",
    "# statistical functions\n",
    "data = np.array([10, 15, 20, 25, 30]) \n",
    "print(data)\n",
    "mean = np.mean(data)\n",
    "print(\"Mean\", mean)\n",
    "median = np.median(data)\n",
    "print(\"Median\", median)\n",
    "std_deviation = np.std(data)\n",
    "print(\"std Deviation\", std_deviation)"
   ]
  },
  {
   "cell_type": "code",
   "execution_count": 5,
   "metadata": {},
   "outputs": [
    {
     "name": "stdout",
     "output_type": "stream",
     "text": [
      "[0]  10\n",
      "[-1]  50\n"
     ]
    }
   ],
   "source": [
    "arr = np.array([10, 20, 30, 40, 50])\n",
    "# Accessing elements using indexing \n",
    "element = arr[0] #Access the first element (10) \n",
    "print(\"[0] \",element)\n",
    "element0 = arr[-1] # Access the last element (50)\n",
    "print(\"[-1] \",element0)"
   ]
  },
  {
   "cell_type": "code",
   "execution_count": 6,
   "metadata": {},
   "outputs": [
    {
     "name": "stdout",
     "output_type": "stream",
     "text": [
      "arr[1:4]  [20 30 40]\n",
      "arr[:3]  [10 20 30]\n",
      "arr[2:]  [30 40 50]\n"
     ]
    }
   ],
   "source": [
    "#slicing\n",
    "slice0= arr[1:4] # Get elements from index 1 to index 3 (20, 30, 40) \n",
    "print(\"arr[1:4] \",slice0) \n",
    "slice1 = arr[:3] #Get elements from the beginning up to index 2 (10, 20, 30)\n",
    "print(\"arr[:3] \",slice1)\n",
    "slice2= arr[2:] # Get elements from index 2 to the end (30, 40, 50)\n",
    "print(\"arr[2:] \",slice2)"
   ]
  }
 ],
 "metadata": {
  "kernelspec": {
   "display_name": "Python 3",
   "language": "python",
   "name": "python3"
  },
  "language_info": {
   "codemirror_mode": {
    "name": "ipython",
    "version": 3
   },
   "file_extension": ".py",
   "mimetype": "text/x-python",
   "name": "python",
   "nbconvert_exporter": "python",
   "pygments_lexer": "ipython3",
   "version": "3.9.1"
  }
 },
 "nbformat": 4,
 "nbformat_minor": 2
}
